{
  "nbformat": 4,
  "nbformat_minor": 0,
  "metadata": {
    "colab": {
      "provenance": [],
      "authorship_tag": "ABX9TyPNlhTzY7vrn2HCCxaekysZ",
      "include_colab_link": true
    },
    "kernelspec": {
      "name": "python3",
      "display_name": "Python 3"
    },
    "language_info": {
      "name": "python"
    }
  },
  "cells": [
    {
      "cell_type": "markdown",
      "metadata": {
        "id": "view-in-github",
        "colab_type": "text"
      },
      "source": [
        "<a href=\"https://colab.research.google.com/github/yeonmi02/CPR_project/blob/main/Imqur_Chill_dataset.ipynb\" target=\"_parent\"><img src=\"https://colab.research.google.com/assets/colab-badge.svg\" alt=\"Open In Colab\"/></a>"
      ]
    },
    {
      "cell_type": "code",
      "execution_count": 1,
      "metadata": {
        "colab": {
          "base_uri": "https://localhost:8080/"
        },
        "id": "xcIW1Cm2Leh5",
        "outputId": "fe10248b-dd22-4710-a21d-170b3db346b9"
      },
      "outputs": [
        {
          "output_type": "stream",
          "name": "stdout",
          "text": [
            "\n",
            "▶ 태그 'memes'에서 이미지 수집 중...\n",
            "\n",
            "▶ 태그 'funny'에서 이미지 수집 중...\n",
            "\n",
            "▶ 태그 'dankmemes'에서 이미지 수집 중...\n",
            "\n",
            "✅ 총 수집된 이미지 수: 4590개\n"
          ]
        }
      ],
      "source": [
        "import requests\n",
        "import time\n",
        "import pandas as pd\n",
        "from tqdm import tqdm\n",
        "\n",
        "# ✅ Imgur API 설정\n",
        "CLIENT_ID = \"9ee03e0f723d1fc\"  # 여기에 본인의 클라이언트 ID 입력\n",
        "HEADERS = {\"Authorization\": f\"Client-ID {CLIENT_ID}\"}\n",
        "\n",
        "# ✅ 검색 태그 및 설정\n",
        "TAGS = [\"memes\", \"funny\", \"dankmemes\"]\n",
        "MAX_IMAGES = 1500\n",
        "PER_PAGE = 60  # 한 번에 가져올 수 있는 최대 수\n",
        "collected_data = []\n",
        "\n",
        "# ✅ 수집 루프\n",
        "for tag in TAGS:\n",
        "    page = 0\n",
        "    total_collected = 0\n",
        "    print(f\"\\n▶ 태그 '{tag}'에서 이미지 수집 중...\")\n",
        "\n",
        "    while total_collected < MAX_IMAGES:\n",
        "        url = f\"https://api.imgur.com/3/gallery/t/{tag}/time/all/{page}\"\n",
        "        res = requests.get(url, headers=HEADERS)\n",
        "\n",
        "        if res.status_code != 200:\n",
        "            print(f\"❌ 오류: {res.status_code}\")\n",
        "            break\n",
        "\n",
        "        data = res.json()\n",
        "        items = data.get(\"data\", {}).get(\"items\", [])\n",
        "        if not items:\n",
        "            print(\"⚠️ 더 이상 이미지 없음.\")\n",
        "            break\n",
        "\n",
        "        for item in items:\n",
        "            if \"images\" in item:\n",
        "                for img in item[\"images\"]:\n",
        "                    if img.get(\"type\", \"\").startswith(\"image/\"):\n",
        "                        collected_data.append({\n",
        "                            \"title\": item.get(\"title\", \"\"),\n",
        "                            \"link\": img.get(\"link\", \"\"),\n",
        "                            \"tag\": tag\n",
        "                        })\n",
        "                        total_collected += 1\n",
        "                        if total_collected >= MAX_IMAGES:\n",
        "                            break\n",
        "        page += 1\n",
        "        time.sleep(1)  # 너무 빠르면 차단될 수 있으므로 딜레이\n",
        "\n",
        "# ✅ 결과 저장\n",
        "df = pd.DataFrame(collected_data)\n",
        "df.to_csv(\"imgur_memes.csv\", index=False)\n",
        "print(f\"\\n✅ 총 수집된 이미지 수: {len(df)}개\")"
      ]
    },
    {
      "cell_type": "code",
      "source": [
        "import pandas as pd\n",
        "\n",
        "# ✅ 1. Chill Guy 스타일 키워드 정의\n",
        "chill_keywords = [\n",
        "    \"chill\", \"this is fine\", \"calm\", \"peaceful\", \"nothing wrong\", \"everything is fine\",\n",
        "    \"cool guy\", \"relaxed\", \"on fire\", \"me watching\", \"world burns\", \"unbothered\"\n",
        "]\n",
        "\n",
        "# ✅ 2. Imgur 데이터 불러오기\n",
        "df = pd.read_csv(\"imgur_memes.csv\")  # ← 파일명 확인\n",
        "\n",
        "# ✅ 3. Chill Guy 여부 판단 함수\n",
        "def is_chill_meme(text):\n",
        "    if pd.isna(text):\n",
        "        return False\n",
        "    return any(keyword in text.lower() for keyword in chill_keywords)\n",
        "\n",
        "# ✅ 4. 제목, 설명, 태그에서 필터링\n",
        "df[\"is_chill\"] = df.apply(\n",
        "    lambda row: is_chill_meme(str(row.get(\"title\", \"\"))) or\n",
        "                is_chill_meme(str(row.get(\"description\", \"\"))) or\n",
        "                is_chill_meme(str(row.get(\"tags\", \"\"))),\n",
        "    axis=1\n",
        ")\n",
        "\n",
        "# ✅ 5. 필터링된 데이터 저장\n",
        "chill_df = df[df[\"is_chill\"]]\n",
        "chill_df.to_csv(\"chill_guy_memes_from_imgur.csv\", index=False)\n",
        "\n",
        "print(f\"🎯 필터링된 Chill Guy 밈 수: {len(chill_df)}개\")"
      ],
      "metadata": {
        "colab": {
          "base_uri": "https://localhost:8080/"
        },
        "id": "eph73mCFOJU6",
        "outputId": "352204e1-f6ca-427b-f98d-778888c5c734"
      },
      "execution_count": 4,
      "outputs": [
        {
          "output_type": "stream",
          "name": "stdout",
          "text": [
            "🎯 필터링된 Chill Guy 밈 수: 1개\n"
          ]
        }
      ]
    },
    {
      "cell_type": "code",
      "source": [
        "import requests\n",
        "import pandas as pd\n",
        "import time\n",
        "\n",
        "CLIENT_ID = \"9ee03e0f723d1fc\"  # 여기에 본인의 Client ID 입력\n",
        "headers = {'Authorization': f'Client-ID {CLIENT_ID}'}\n",
        "\n",
        "# ✅ 검색할 키워드 리스트\n",
        "search_terms = [\n",
        "    \"this is fine\", \"chill guy\", \"relaxed meme\", \"peaceful chaos\",\n",
        "    \"on fire meme\", \"calm in chaos\", \"everything is fine meme\", \"unbothered meme\"\n",
        "]\n",
        "\n",
        "all_results = []\n",
        "\n",
        "# ✅ 키워드 순회하며 Imgur에서 이미지 수집\n",
        "for term in search_terms:\n",
        "    print(f\"🔍 검색 중: '{term}'\")\n",
        "    for page in range(5):  # 각 키워드 당 5페이지씩 (보통 60~100개 정도)\n",
        "        url = f\"https://api.imgur.com/3/gallery/search/top/all/{page}?q={term}\"\n",
        "        res = requests.get(url, headers=headers)\n",
        "        if res.status_code != 200:\n",
        "            print(f\"❌ 요청 실패: {res.status_code}\")\n",
        "            break\n",
        "        data = res.json()[\"data\"]\n",
        "        for item in data:\n",
        "            if item.get(\"type\", \"\").startswith(\"image\"):\n",
        "                all_results.append({\n",
        "                    \"id\": item.get(\"id\"),\n",
        "                    \"title\": item.get(\"title\"),\n",
        "                    \"description\": item.get(\"description\"),\n",
        "                    \"tags\": \", \".join([tag[\"name\"] for tag in item.get(\"tags\", [])]),\n",
        "                    \"link\": item.get(\"link\"),\n",
        "                    \"datetime\": item.get(\"datetime\")\n",
        "                })\n",
        "        time.sleep(1)  # API 과속 방지용\n",
        "\n",
        "# ✅ 데이터프레임으로 정리하고 중복 제거\n",
        "df = pd.DataFrame(all_results)\n",
        "df.drop_duplicates(subset=\"id\", inplace=True)\n",
        "print(f\"🎯 수집된 밈 개수: {len(df)}개\")\n",
        "\n",
        "# ✅ 저장\n",
        "df.to_csv(\"chill_guy_meme_candidates.csv\", index=False)\n",
        "\n",
        "\n",
        "chill_keywords = [\n",
        "    \"chill\", \"this is fine\", \"calm\", \"peaceful\", \"nothing wrong\", \"everything is fine\",\n",
        "    \"cool guy\", \"relaxed\", \"on fire\", \"me watching\", \"world burns\", \"unbothered\"\n",
        "]\n",
        "\n",
        "def is_chill_meme(text):\n",
        "    if pd.isna(text):\n",
        "        return False\n",
        "    return any(keyword in text.lower() for keyword in chill_keywords)\n",
        "\n",
        "df = pd.read_csv(\"chill_guy_meme_candidates.csv\")\n",
        "\n",
        "df[\"is_chill\"] = df.apply(\n",
        "    lambda row: is_chill_meme(str(row.get(\"title\", \"\"))) or\n",
        "                is_chill_meme(str(row.get(\"description\", \"\"))) or\n",
        "                is_chill_meme(str(row.get(\"tags\", \"\"))),\n",
        "    axis=1\n",
        ")\n",
        "\n",
        "filtered = df[df[\"is_chill\"]]\n",
        "filtered.to_csv(\"chill_guy_memes_final.csv\", index=False)\n",
        "print(f\"✅ 최종 Chill Guy 밈 수: {len(filtered)}개\")"
      ],
      "metadata": {
        "colab": {
          "base_uri": "https://localhost:8080/"
        },
        "id": "N7jGrFE0QfhV",
        "outputId": "cbece9b3-6ce1-40d4-a2d0-6b0ed37b64d3"
      },
      "execution_count": 6,
      "outputs": [
        {
          "output_type": "stream",
          "name": "stdout",
          "text": [
            "🔍 검색 중: 'this is fine'\n",
            "🔍 검색 중: 'chill guy'\n",
            "🔍 검색 중: 'relaxed meme'\n",
            "🔍 검색 중: 'peaceful chaos'\n",
            "🔍 검색 중: 'on fire meme'\n",
            "🔍 검색 중: 'calm in chaos'\n",
            "🔍 검색 중: 'everything is fine meme'\n",
            "🔍 검색 중: 'unbothered meme'\n",
            "🎯 수집된 밈 개수: 98개\n",
            "✅ 최종 Chill Guy 밈 수: 81개\n"
          ]
        }
      ]
    }
  ]
}