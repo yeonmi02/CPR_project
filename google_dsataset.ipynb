{
  "nbformat": 4,
  "nbformat_minor": 0,
  "metadata": {
    "colab": {
      "provenance": [],
      "authorship_tag": "ABX9TyPCByluTUp1YibuEMEE4eTv",
      "include_colab_link": true
    },
    "kernelspec": {
      "name": "python3",
      "display_name": "Python 3"
    },
    "language_info": {
      "name": "python"
    }
  },
  "cells": [
    {
      "cell_type": "markdown",
      "metadata": {
        "id": "view-in-github",
        "colab_type": "text"
      },
      "source": [
        "<a href=\"https://colab.research.google.com/github/yeonmi02/CPR_project/blob/main/google_dsataset.ipynb\" target=\"_parent\"><img src=\"https://colab.research.google.com/assets/colab-badge.svg\" alt=\"Open In Colab\"/></a>"
      ]
    },
    {
      "cell_type": "code",
      "source": [
        "!pip install icrawler\n"
      ],
      "metadata": {
        "colab": {
          "base_uri": "https://localhost:8080/"
        },
        "id": "i6kj-QPZi5qv",
        "outputId": "def33d74-3379-446d-856f-0d3175ffe5b6"
      },
      "execution_count": 7,
      "outputs": [
        {
          "output_type": "stream",
          "name": "stdout",
          "text": [
            "Requirement already satisfied: icrawler in /usr/local/lib/python3.11/dist-packages (0.6.10)\n",
            "Requirement already satisfied: beautifulsoup4 in /usr/local/lib/python3.11/dist-packages (from icrawler) (4.13.4)\n",
            "Requirement already satisfied: bs4 in /usr/local/lib/python3.11/dist-packages (from icrawler) (0.0.2)\n",
            "Requirement already satisfied: lxml in /usr/local/lib/python3.11/dist-packages (from icrawler) (5.4.0)\n",
            "Requirement already satisfied: pillow in /usr/local/lib/python3.11/dist-packages (from icrawler) (11.2.1)\n",
            "Requirement already satisfied: pyyaml in /usr/local/lib/python3.11/dist-packages (from icrawler) (6.0.2)\n",
            "Requirement already satisfied: requests in /usr/local/lib/python3.11/dist-packages (from icrawler) (2.32.3)\n",
            "Requirement already satisfied: six in /usr/local/lib/python3.11/dist-packages (from icrawler) (1.17.0)\n",
            "Requirement already satisfied: soupsieve>1.2 in /usr/local/lib/python3.11/dist-packages (from beautifulsoup4->icrawler) (2.7)\n",
            "Requirement already satisfied: typing-extensions>=4.0.0 in /usr/local/lib/python3.11/dist-packages (from beautifulsoup4->icrawler) (4.13.2)\n",
            "Requirement already satisfied: charset-normalizer<4,>=2 in /usr/local/lib/python3.11/dist-packages (from requests->icrawler) (3.4.2)\n",
            "Requirement already satisfied: idna<4,>=2.5 in /usr/local/lib/python3.11/dist-packages (from requests->icrawler) (3.10)\n",
            "Requirement already satisfied: urllib3<3,>=1.21.1 in /usr/local/lib/python3.11/dist-packages (from requests->icrawler) (2.4.0)\n",
            "Requirement already satisfied: certifi>=2017.4.17 in /usr/local/lib/python3.11/dist-packages (from requests->icrawler) (2025.4.26)\n"
          ]
        }
      ]
    },
    {
      "cell_type": "code",
      "source": [
        "from icrawler.builtin import BingImageCrawler\n",
        "\n",
        "# 저장 폴더 이름 (자동 생성됨)\n",
        "save_dir = './chill_guy_memes'\n",
        "\n",
        "# 크롤러 생성 및 실행\n",
        "crawler = BingImageCrawler(storage={'root_dir': save_dir})\n",
        "crawler.crawl(keyword='chill guy meme', max_num=1000)\n"
      ],
      "metadata": {
        "colab": {
          "base_uri": "https://localhost:8080/"
        },
        "id": "fCWLZERtjIUW",
        "outputId": "7dd08a72-29a5-42fd-923f-b285b88afc1e"
      },
      "execution_count": 9,
      "outputs": [
        {
          "output_type": "stream",
          "name": "stderr",
          "text": [
            "ERROR:downloader:Response status code 403, file https://phongvu.vn/cong-nghe/wp-content/uploads/2024/12/chill-guy-la-gi-1-600x375.jpg\n",
            "ERROR:downloader:Response status code 404, file https://i.ytimg.com/vi/xTu8nU1sSaE/maxres2.jpg\n",
            "ERROR:downloader:Response status code 404, file https://i.ytimg.com/vi/Sh5mfqjB4Ig/maxres2.jpg\n"
          ]
        }
      ]
    },
    {
      "cell_type": "code",
      "source": [
        "import os\n",
        "\n",
        "files = os.listdir(save_dir)\n",
        "print(f\"✅ 수집된 이미지 수: {len(files)}개\")\n"
      ],
      "metadata": {
        "colab": {
          "base_uri": "https://localhost:8080/"
        },
        "id": "Wo5NheEfjSol",
        "outputId": "bc18a5d7-85f6-4621-c1ae-c8bd3e6edda4"
      },
      "execution_count": 10,
      "outputs": [
        {
          "output_type": "stream",
          "name": "stdout",
          "text": [
            "✅ 수집된 이미지 수: 197개\n"
          ]
        }
      ]
    },
    {
      "cell_type": "code",
      "source": [
        "from google.colab import drive\n",
        "drive.mount('/content/drive')\n",
        "\n",
        "# 예: Google Drive 경로로 저장\n",
        "save_dir = '/content/drive/MyDrive/chill_guy_memes'\n",
        "crawler = BingImageCrawler(storage={'root_dir': save_dir})\n",
        "crawler.crawl(keyword='chill guy meme', max_num=1000)\n"
      ],
      "metadata": {
        "colab": {
          "base_uri": "https://localhost:8080/"
        },
        "id": "ZZARY32OjXTP",
        "outputId": "73c160c8-f26a-4848-944a-9dfb46c8d1b5"
      },
      "execution_count": 11,
      "outputs": [
        {
          "output_type": "stream",
          "name": "stdout",
          "text": [
            "Mounted at /content/drive\n"
          ]
        },
        {
          "output_type": "stream",
          "name": "stderr",
          "text": [
            "ERROR:downloader:Response status code 403, file https://svgsunshine.com/wp-content/uploads/2024/11/Just-A-Chill-Guy-Dog-PNG-Funny-Chill-Guy-Meme-PNG-File-1-800x800.jpg\n",
            "ERROR:downloader:Response status code 403, file https://svgsunshine.com/wp-content/uploads/2024/12/My-New-Character-Is-A-Chill-Guy-Meme-SVG-Funny-Chill-Guy-Dog-SVG-1-800x800.jpg\n",
            "ERROR:downloader:Response status code 403, file https://phongvu.vn/cong-nghe/wp-content/uploads/2024/12/chill-guy-la-gi-20-420x420.jpg\n",
            "ERROR:downloader:Response status code 403, file https://nairametrics.com/wp-content/uploads/2024/11/undefined-6.jpg\n",
            "ERROR:downloader:Response status code 403, file https://phongvu.vn/cong-nghe/wp-content/uploads/2024/12/chill-guy-la-gi-19-300x300.jpg\n",
            "ERROR:downloader:Response status code 403, file https://phongvu.vn/cong-nghe/wp-content/uploads/2024/12/chill-guy-la-gi-1-1068x668.jpg\n",
            "ERROR:downloader:Response status code 400, file https://www.chillguy.io/_next/image?url=%2F_next%2Fstatic%2Fmedia%2Fmeme1.e80a038f.jpg\n",
            "ERROR:downloader:Response status code 400, file https://www.indy100.com/media-library/people-who-found-fame-through-a-meme.jpg\n",
            "ERROR:downloader:Response status code 403, file https://phongvu.vn/cong-nghe/wp-content/uploads/2024/12/chill-guy-la-gi-6-420x420.jpg\n",
            "ERROR:downloader:Response status code 403, file https://phongvu.vn/cong-nghe/wp-content/uploads/2024/12/chill-guy-la-gi-13-420x420.jpg\n",
            "ERROR:downloader:Response status code 400, file https://www.chillguy.io/_next/image?url=%2F_next%2Fstatic%2Fmedia%2Fmeme9.56401d09.jpg\n",
            "ERROR:downloader:Response status code 403, file https://phongvu.vn/cong-nghe/wp-content/uploads/2024/12/chill-guy-la-gi-9-300x300.jpg\n",
            "ERROR:downloader:Response status code 400, file https://imageresizer.com/_next/image?url=https%3A%2F%2Fcontent.imageresizer.com%2Fimages%2Fmemes%2FChill-guy-thumbnail-url-9au02y.jpg\n",
            "ERROR:downloader:Response status code 403, file https://phongvu.vn/cong-nghe/wp-content/uploads/2024/12/chill-guy-la-gi-1-600x375.jpg\n",
            "ERROR:downloader:Response status code 404, file https://i.ytimg.com/vi/Sh5mfqjB4Ig/maxres2.jpg\n"
          ]
        }
      ]
    },
    {
      "cell_type": "code",
      "source": [
        "import os\n",
        "import pandas as pd\n",
        "\n",
        "# 이미지가 저장된 폴더 경로\n",
        "folder_path = '/content/chill_guy_memes'\n",
        "\n",
        "# 이미지 파일 경로 리스트 생성\n",
        "file_list = os.listdir(folder_path)\n",
        "file_paths = [os.path.join(folder_path, fname) for fname in file_list if fname.endswith(('.jpg', '.jpeg', '.png'))]\n",
        "\n",
        "# 데이터프레임 생성\n",
        "df = pd.DataFrame({'file_name': file_list, 'file_path': file_paths})\n",
        "\n",
        "# CSV 저장\n",
        "df.to_csv('chill_guy_memes.csv', index=False)\n",
        "print(f\"✅ 저장 완료: {len(df)}개 항목 CSV로 저장됨\")\n"
      ],
      "metadata": {
        "colab": {
          "base_uri": "https://localhost:8080/"
        },
        "id": "JLxiGkHsjvXC",
        "outputId": "2698bd46-49f5-431e-95c9-af0832a51df4"
      },
      "execution_count": 13,
      "outputs": [
        {
          "output_type": "stream",
          "name": "stdout",
          "text": [
            "✅ 저장 완료: 197개 항목 CSV로 저장됨\n"
          ]
        }
      ]
    }
  ]
}